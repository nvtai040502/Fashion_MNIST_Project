{
  "cells": [
    {
      "cell_type": "markdown",
      "id": "Z8ctefbOSugN",
      "metadata": {
        "id": "Z8ctefbOSugN"
      },
      "source": [
        "# Regularization"
      ]
    },
    {
      "cell_type": "markdown",
      "id": "2tUUGm4cUQgh",
      "metadata": {
        "id": "2tUUGm4cUQgh"
      },
      "source": [
        "## Previous Chapter Code"
      ]
    },
    {
      "cell_type": "code",
      "execution_count": 2,
      "id": "Ay1-vmDPUVPI",
      "metadata": {
        "colab": {
          "base_uri": "https://localhost:8080/"
        },
        "id": "Ay1-vmDPUVPI",
        "outputId": "f7596d77-6c87-456b-f47e-2aafd689a3c7"
      },
      "outputs": [
        {
          "name": "stdout",
          "output_type": "stream",
          "text": [
            "Total Mini-Batches: 375\n",
            "Shape of Each Mini-Batch: torch.Size([128, 784])\n",
            "\n",
            "Total Mini-Batches: 94\n",
            "Shape of Each Mini-Batch: torch.Size([128, 784])\n",
            "\n"
          ]
        }
      ],
      "source": [
        "# Download Data\n",
        "import torch\n",
        "import numpy as np\n",
        "from torchvision import datasets\n",
        "\n",
        "train_dataset = datasets.FashionMNIST(root='./data', train=True, download=True)\n",
        "test_dataset = datasets.FashionMNIST(root='./data', train=False, download=True)\n",
        "\n",
        "# constant for classes\n",
        "classes = ['T-shirt/top', 'Trouser', 'Pullover', 'Dress', 'Coat',\n",
        "        'Sandal', 'Shirt', 'Sneaker', 'Bag', 'Ankle Boot']\n",
        "\n",
        "x = train_dataset.data\n",
        "y = train_dataset.targets\n",
        "\n",
        "# Reshape and cast the input data\n",
        "x = x.view(-1, 784)\n",
        "x = x.to(torch.float32)\n",
        "\n",
        "# Cast the target labels to the 'long' data type\n",
        "y = y.to(torch.long)\n",
        "\n",
        "# Split data into train & valid set\n",
        "from sklearn.model_selection import train_test_split\n",
        "\n",
        "valid_pct = .2\n",
        "x_train, x_valid, y_train, y_valid = train_test_split(x, y, test_size = valid_pct)\n",
        "\n",
        "# Normalization\n",
        "def min_max_scale(data, a=0, b=1):\n",
        "    # Calculate the minimum and maximum values of the data\n",
        "    data_min = data.min()\n",
        "    data_max = data.max()\n",
        "\n",
        "    # Perform Min-Max Scaling\n",
        "    data_norm = (data - data_min) / (data_max - data_min)\n",
        "\n",
        "    # Rescale the data to the [a, b] range\n",
        "    data_norm = a + data_norm * (b - a)\n",
        "\n",
        "    return data_norm\n",
        "\n",
        "x_train_norm = min_max_scale(x_train)\n",
        "x_valid_norm = min_max_scale(x_valid)\n",
        "\n",
        "# Load data\n",
        "from torch.utils.data import TensorDataset, DataLoader\n",
        "\n",
        "def load_data(x_tensor, y_tensor, batch_size, test):\n",
        "    data = TensorDataset(x_tensor, y_tensor)\n",
        "\n",
        "    data_loader = DataLoader(data, batch_size=batch_size, shuffle=not test, drop_last=not test)\n",
        "\n",
        "    print(f\"Total Mini-Batches: {len(data_loader)}\")\n",
        "    for i, (x, y) in enumerate(data_loader):\n",
        "        if i == 0:\n",
        "            print(f\"Shape of Each Mini-Batch: {x.shape}\")\n",
        "            print(\"\")\n",
        "            break\n",
        "    return data_loader\n",
        "\n",
        "batch_size = 128\n",
        "train_loader = load_data(x_train_norm, y_train, batch_size=batch_size, test = False)\n",
        "valid_loader = load_data(x_valid_norm, y_valid, batch_size=batch_size, test=True)"
      ]
    },
    {
      "cell_type": "markdown",
      "id": "Vn6CClVmUnMZ",
      "metadata": {
        "id": "Vn6CClVmUnMZ"
      },
      "source": [
        "Trong đoạn mã trên, tôi đã giữ y nguyên như đoạn code trong chương trước."
      ]
    },
    {
      "cell_type": "markdown",
      "id": "98MqwtcgB5px",
      "metadata": {
        "id": "98MqwtcgB5px"
      },
      "source": [
        "## GPU Implementation"
      ]
    },
    {
      "cell_type": "code",
      "execution_count": 3,
      "id": "9e2d7ba4",
      "metadata": {
        "colab": {
          "base_uri": "https://localhost:8080/"
        },
        "id": "9e2d7ba4",
        "outputId": "11760f07-18eb-484a-d975-4e039958e1a7"
      },
      "outputs": [
        {
          "data": {
            "text/plain": [
              "device(type='cuda')"
            ]
          },
          "execution_count": 3,
          "metadata": {},
          "output_type": "execute_result"
        }
      ],
      "source": [
        "import torch\n",
        "device = torch.device(\"cuda\" if torch.cuda.is_available() else \"cpu\")\n",
        "device"
      ]
    },
    {
      "cell_type": "markdown",
      "id": "soqTGZk9Cvp5",
      "metadata": {
        "id": "soqTGZk9Cvp5"
      },
      "source": [
        "**CUDA** (Compute Unified Device Architecture): đề cập đến một nền tảng tính toán song song được phát triển bởi **NVIDIA**, một trong những nhà sản xuất card đồ họa và **GPU** lớn nhất trên thế giới. **CUDA** cho phép bạn sử dụng **GPU** (Graphics Processing Unit) của NVIDIA để thực hiện các tính toán không chỉ liên quan đến đồ họa, mà còn bao gồm các tác vụ tính toán tổng quát, bao gồm cả tính toán khoa học và máy học."
      ]
    },
    {
      "cell_type": "code",
      "execution_count": 4,
      "id": "tvA4EWUMVRaJ",
      "metadata": {
        "id": "tvA4EWUMVRaJ"
      },
      "outputs": [],
      "source": [
        "import torch\n",
        "import torch.nn as nn\n",
        "\n",
        "class Model(nn.Module):\n",
        "    def __init__(self):\n",
        "        super().__init__()\n",
        "\n",
        "        # Assume 3 hidden layers, each with 200 units\n",
        "        self.input = nn.Linear(784, 200)\n",
        "        self.hd1 = nn.Linear(200, 200)\n",
        "        self.hd2 = nn.Linear(200, 200)\n",
        "        self.hd3 = nn.Linear(200, 10)\n",
        "\n",
        "        self.layers = [self.input, self.hd1, self.hd2]\n",
        "\n",
        "    def forward(self, x):\n",
        "        # Forward pass\n",
        "        for layer in self.layers:\n",
        "            x = layer(x)\n",
        "            # Apply ReLU Activation Function\n",
        "            x = torch.relu(x)\n",
        "\n",
        "        out = self.hd3(x)\n",
        "\n",
        "        return out\n",
        "\n",
        "def train_model(model, train_loader, valid_loader, \\\n",
        "                loss_fn, optimizer_algorithm, lr, n_epochs, device):\n",
        "\n",
        "    # Get the optimizer function based on the provided algorithm name\n",
        "    opt_fn = getattr(torch.optim, optimizer_algorithm)\n",
        "    optimizer = opt_fn(model.parameters(), lr=lr)\n",
        "\n",
        "    # Lists to store losses and training accuracy\n",
        "    losses = torch.zeros(n_epochs, len(train_loader))\n",
        "    train_acc = torch.zeros(n_epochs, len(train_loader))\n",
        "    valid_acc = torch.zeros(n_epochs, len(valid_loader))\n",
        "\n",
        "    for epoch in range(n_epochs):\n",
        "        for i, (x, y) in enumerate(train_loader):\n",
        "\n",
        "            ### New code\n",
        "            # Convert x, y to GPU\n",
        "            x = x.to(device)\n",
        "            y = y.to(device)\n",
        "            ############\n",
        "\n",
        "            out = model.forward(x)\n",
        "\n",
        "            # Calculate loss\n",
        "            loss = loss_fn(out, y)\n",
        "\n",
        "            # Backpropagation\n",
        "            loss.backward()\n",
        "            optimizer.step()\n",
        "            optimizer.zero_grad()\n",
        "\n",
        "            # Store the loss\n",
        "            losses[epoch, i] = loss.item()\n",
        "\n",
        "            # Calculate training accuracy\n",
        "            acc = 100 * (out.argmax(1) == y).float().mean()\n",
        "            train_acc[epoch, i] = acc\n",
        "\n",
        "            # Evaluation on validation data\n",
        "            with torch.no_grad():\n",
        "                for j, (x, y) in enumerate(valid_loader):\n",
        "\n",
        "                    ### New code\n",
        "                    # Convert x, y to GPU\n",
        "                    x = x.to(device)\n",
        "                    y = y.to(device)\n",
        "                    ##########\n",
        "\n",
        "                    out = model.forward(x)\n",
        "\n",
        "                    acc = 100 * (out.argmax(1) == y).float().mean()\n",
        "                    valid_acc[epoch, j] = acc\n",
        "\n",
        "    return model, losses, train_acc, valid_acc"
      ]
    },
    {
      "cell_type": "code",
      "execution_count": 5,
      "id": "cShyUIEfD7I7",
      "metadata": {
        "colab": {
          "base_uri": "https://localhost:8080/"
        },
        "id": "cShyUIEfD7I7",
        "outputId": "90ee3094-93ed-43a6-dca2-2e0e22e241d7"
      },
      "outputs": [
        {
          "data": {
            "text/plain": [
              "Model(\n",
              "  (input): Linear(in_features=784, out_features=200, bias=True)\n",
              "  (hd1): Linear(in_features=200, out_features=200, bias=True)\n",
              "  (hd2): Linear(in_features=200, out_features=200, bias=True)\n",
              "  (hd3): Linear(in_features=200, out_features=10, bias=True)\n",
              ")"
            ]
          },
          "execution_count": 5,
          "metadata": {},
          "output_type": "execute_result"
        }
      ],
      "source": [
        "model = Model()\n",
        "\n",
        "### New code\n",
        "# Conver model to GPU\n",
        "model = model.to(device)\n",
        "model\n",
        "################"
      ]
    },
    {
      "cell_type": "markdown",
      "id": "Efh_np0m_NOv",
      "metadata": {
        "id": "Efh_np0m_NOv"
      },
      "source": [
        "Chuyển đổi dữ liệu sang GPU là một quá trình đơn giản, tương tự việc bạn giao bài tập cho người bạn giỏi để làm giúp. Khi bạn đưa dữ liệu lên GPU, đó là như bạn đang sử dụng sức mạnh tính toán của GPU để thực hiện các phép tính. Khi bạn muốn sử dụng kết quả, bạn có thể dễ dàng đưa dữ liệu từ GPU trở lại CPU, giống như việc bạn lấy bài tập đã làm xong từ người bạn học giỏi để nộp cho giáo viên vậy."
      ]
    },
    {
      "cell_type": "code",
      "execution_count": 6,
      "id": "b3b22f07",
      "metadata": {
        "colab": {
          "base_uri": "https://localhost:8080/"
        },
        "id": "b3b22f07",
        "outputId": "35070cf1-df1b-45d3-b61c-e2856ffa39ab"
      },
      "outputs": [
        {
          "name": "stdout",
          "output_type": "stream",
          "text": [
            "Model training time: 5 min 3.26s\n"
          ]
        }
      ],
      "source": [
        "import time\n",
        "start_time = time.time()\n",
        "\n",
        "# Define the loss function (CrossEntropyLoss) and optimizer algorithm (Adam)\n",
        "loss_fn = nn.CrossEntropyLoss()\n",
        "optimizer_algorithm = \"Adam\"\n",
        "\n",
        "# Set the learning rate and number of training epochs\n",
        "learning_rate = 0.01\n",
        "n_epochs = 5\n",
        "\n",
        "parameters, losses, train_acc, valid_acc = train_model(model, \\\n",
        "                                                             train_loader, \\\n",
        "                                                             valid_loader, \\\n",
        "                                                             loss_fn, \\\n",
        "                                                             optimizer_algorithm, \\\n",
        "                                                             learning_rate, \\\n",
        "                                                             n_epochs, \\\n",
        "                                                             device)\n",
        "\n",
        "end_time = time.time()\n",
        "execution_time = end_time - start_time\n",
        "execution_time_minutes = int(execution_time // 60)\n",
        "execution_time_seconds = round(execution_time % 60, 2)\n",
        "print(f\"Model training time: {execution_time_minutes} min {execution_time_seconds}s\")"
      ]
    },
    {
      "cell_type": "markdown",
      "id": "umW6YCgQA-x9",
      "metadata": {
        "id": "umW6YCgQA-x9"
      },
      "source": [
        "Như bạn có thể thấy, tôi đã đơn giản là sao chép code từ chương trước và chỉ thêm vài dòng code mới để chuyển x, y và model sang GPU. Nhưng điều đáng chú ý là thời gian huấn luyện mô hình đã giảm gần như một nửa. Điều này cho thấy sức mạnh của việc sử dụng GPU trong Deep Learning.\n",
        "\n",
        "Trước đây, khi thực hiện huấn luyện mô hình trên CPU, quá trình này thường mất rất nhiều thời gian. Nhưng với sự hỗ trợ của GPU, các phép tính toán được thực hiện nhanh chóng hơn nhiều lần, giúp cho việc phát triển Deep Learning trở nên mạnh mẽ và hiệu quả hơn.\n",
        "\n",
        "\n",
        "\n"
      ]
    },
    {
      "cell_type": "code",
      "execution_count": 7,
      "id": "juClBcv7ZUqR",
      "metadata": {
        "colab": {
          "base_uri": "https://localhost:8080/",
          "height": 321
        },
        "id": "juClBcv7ZUqR",
        "outputId": "31f8545b-7fe0-4237-ad51-4f6b96370cac"
      },
      "outputs": [
        {
          "data": {
            "image/png": "[encoded data removed]",
            "text/plain": [
              "<Figure size 1400x300 with 2 Axes>"
            ]
          },
          "metadata": {},
          "output_type": "display_data"
        }
      ],
      "source": [
        "import matplotlib.pyplot as plt\n",
        "\n",
        "final_loss = losses.mean(1)[-1]\n",
        "final_train_acc = train_acc.mean(1)[-1]\n",
        "final_valid_acc = valid_acc.mean(1)[-1]\n",
        "\n",
        "fig, axs = plt.subplots(1, 2, figsize = (14, 3))\n",
        "\n",
        "axs[0].plot(range(losses.shape[0]), losses.mean(1), \"-o\")\n",
        "axs[0].set_title(f\"Train Loss is: {final_loss:.4f}\")\n",
        "\n",
        "\n",
        "axs[1].plot(range(train_acc.shape[0]), train_acc.mean(1), \"-o\")\n",
        "axs[1].plot(range(valid_acc.shape[0]), valid_acc.mean(1), \"-o\")\n",
        "axs[1].set_title(f\"Train: {final_train_acc:.2f}%, Valid: {final_valid_acc:.2f}%\")\n",
        "axs[1].legend([\"Train\", \"Valid\"])\n",
        "\n",
        "plt.suptitle(f\"Result with Neural Net in GPU\", fontsize = 16)\n",
        "plt.show()"
      ]
    },
    {
      "cell_type": "markdown",
      "id": "IvHPM6mEbWQB",
      "metadata": {
        "id": "IvHPM6mEbWQB"
      },
      "source": [
        "Như bạn có thể thấy, những gì tôi vừa thực hiện đơn giản chỉ là việc di chuyển dữ liệu x, y và mô hình sang GPU để tận dụng sức mạnh tính toán của nó. Phần còn lại chỉ đơn giản là sao chép code từ chương trước, vì vậy kết quả mà chúng ta thu được khá tương đồng.\n",
        "\n",
        "Bây giờ, hãy cùng tôi khám phá các kỹ thuật regularization để cải thiện độ chính xác của mô hình."
      ]
    },
    {
      "cell_type": "markdown",
      "id": "2bDdRKViS8ut",
      "metadata": {
        "id": "2bDdRKViS8ut"
      },
      "source": [
        "Regularization là tập hợp các kỹ thuật được sử dụng trong deep learning để đảm bảo mô hình học từ dữ liệu một cách tổng quát hơn, thay vì chỉ học thuộc lòng các ví dụ cụ thể. Để hình dung điều này, hãy tưởng tượng bạn nhận được một đề cương ôn thi từ giáo viên. Thay vì chỉ đọc đáp án của đề cương mà không hiểu tại sao đáp án đó lại đúng, regularization giống như việc bạn muốn hiểu sâu hơn về nguyên tắc và kiến thức chung, giúp bạn tự tin giải quyết các câu hỏi khác nhau khi đi thi.\n",
        "\n",
        "Có 3 loại Regularization phổ biến trong Deep Learning đó là:\n",
        "\n",
        "- Dropout\n",
        "\n",
        "- L2 Regularization\n",
        "\n",
        "- Batch Normalization\n",
        "\n",
        "\n",
        "\n",
        "\n"
      ]
    },
    {
      "cell_type": "markdown",
      "id": "mMTq3rF3cciI",
      "metadata": {
        "id": "mMTq3rF3cciI"
      },
      "source": [
        "## Dropout"
      ]
    },
    {
      "cell_type": "code",
      "execution_count": 8,
      "id": "bWIabGyiTvTg",
      "metadata": {
        "id": "bWIabGyiTvTg"
      },
      "outputs": [],
      "source": [
        "import torch.nn as nn\n",
        "\n",
        "dropout_rate = 0.6\n",
        "\n",
        "dropout_layer = nn.Dropout(p=dropout_rate)"
      ]
    },
    {
      "cell_type": "markdown",
      "id": "WwKnO9rrT9MM",
      "metadata": {
        "id": "WwKnO9rrT9MM"
      },
      "source": [
        "Dropout là một trong những kỹ thuật regularization phổ biến trong mạng neural. Bạn có thể tưởng tượng nó như việc đôi khi bạn \"ẩn đi\" một số phần kiến thức quan trọng trong sách giáo trình. Điều này đặt ra một thách thức cho bạn, buộc bạn phải học và hiểu sâu hơn về nguyên tắc tổng quan của chủ đề, thay vì chỉ ghi nhớ các chi tiết cụ thể. Khi bạn đối mặt với các tình huống mới, khả năng tổng quan hóa và sáng tạo của bạn được thúc đẩy. Tương tự, trong mạng neural, dropout là việc tắt ngẫu nhiên một số neuron trong các lớp ẩn, làm cho mô hình không thể quá phụ thuộc vào các neuron cụ thể. Kỹ thuật này giúp mô hình học được các đặc trưng tổng quan của dữ liệu và tạo ra một mô hình khái quát hóa tốt hơn."
      ]
    },
    {
      "cell_type": "code",
      "execution_count": 9,
      "id": "gvLmAqyZczd5",
      "metadata": {
        "id": "gvLmAqyZczd5"
      },
      "outputs": [],
      "source": [
        "import torch\n",
        "import torch.nn as nn\n",
        "import torch.nn.functional as F\n",
        "\n",
        "class Model(nn.Module):\n",
        "    def __init__(self, dropout_rate):\n",
        "        super().__init__()\n",
        "\n",
        "        ### New Code\n",
        "        # Droput Rate\n",
        "        self.dropout_rate = dropout_rate\n",
        "        #########\n",
        "\n",
        "        # Assume 3 hidden layers, each with 200 units\n",
        "        self.input = nn.Linear(784, 200)\n",
        "        self.hd1 = nn.Linear(200, 200)\n",
        "        self.hd2 = nn.Linear(200, 200)\n",
        "        self.hd3 = nn.Linear(200, 10)\n",
        "\n",
        "        self.layers = [self.input, self.hd1, self.hd2]\n",
        "\n",
        "    def forward(self, x):\n",
        "        # Forward pass\n",
        "        for layer in self.layers:\n",
        "            x = layer(x)\n",
        "            # Apply ReLU Activation Function\n",
        "            x = torch.relu(x)\n",
        "\n",
        "            ### New Code\n",
        "            # Add droput to hidden layer\n",
        "            x = F.dropout(x, self.dropout_rate, training=self.training)\n",
        "            ##################\n",
        "\n",
        "        out = self.hd3(x)\n",
        "\n",
        "        return out\n",
        "\n",
        "def train_model(model, train_loader, valid_loader, \\\n",
        "                loss_fn, optimizer_algorithm, lr, n_epochs, device):\n",
        "\n",
        "    # Get the optimizer function based on the provided algorithm name\n",
        "    opt_fn = getattr(torch.optim, optimizer_algorithm)\n",
        "    optimizer = opt_fn(model.parameters(), lr=lr)\n",
        "\n",
        "    # Lists to store losses and training accuracy\n",
        "    losses = torch.zeros(n_epochs, len(train_loader))\n",
        "    train_acc = torch.zeros(n_epochs, len(train_loader))\n",
        "    valid_acc = torch.zeros(n_epochs, len(valid_loader))\n",
        "\n",
        "    for epoch in range(n_epochs):\n",
        "        for i, (x, y) in enumerate(train_loader):\n",
        "\n",
        "            ### New code\n",
        "            # Set Model to train mode\n",
        "            model.train()\n",
        "            ######\n",
        "\n",
        "            # Convert x, y to GPU\n",
        "            x = x.to(device)\n",
        "            y = y.to(device)\n",
        "\n",
        "            out = model.forward(x)\n",
        "\n",
        "            # Calculate loss\n",
        "            loss = loss_fn(out, y)\n",
        "\n",
        "            # Backpropagation\n",
        "            loss.backward()\n",
        "            optimizer.step()\n",
        "            optimizer.zero_grad()\n",
        "\n",
        "            # Store the loss\n",
        "            losses[epoch, i] = loss.item()\n",
        "\n",
        "            # Calculate training accuracy\n",
        "            acc = 100 * (out.argmax(1) == y).float().mean()\n",
        "            train_acc[epoch, i] = acc\n",
        "\n",
        "            ### New code\n",
        "            # Set Model to evaluation mode\n",
        "            model.eval()\n",
        "            ######\n",
        "\n",
        "            # Evaluation on validation data\n",
        "            with torch.no_grad():\n",
        "                for j, (x, y) in enumerate(valid_loader):\n",
        "                    # Convert x, y to GPU\n",
        "                    x = x.to(device)\n",
        "                    y = y.to(device)\n",
        "\n",
        "                    out = model.forward(x)\n",
        "\n",
        "                    acc = 100 * (out.argmax(1) == y).float().mean()\n",
        "                    valid_acc[epoch, j] = acc\n",
        "\n",
        "    return model, losses, train_acc, valid_acc"
      ]
    },
    {
      "cell_type": "code",
      "execution_count": 10,
      "id": "JMPBIRFblhce",
      "metadata": {
        "id": "JMPBIRFblhce"
      },
      "outputs": [],
      "source": [
        "n_epochs = 1\n",
        "dropout_rate = .5\n",
        "model = Model(dropout_rate).to(device)\n",
        "\n",
        "\n",
        "parameters, losses, train_acc, valid_acc = train_model(model, \\\n",
        "                                                             train_loader, \\\n",
        "                                                             valid_loader, \\\n",
        "                                                             loss_fn, \\\n",
        "                                                             optimizer_algorithm, \\\n",
        "                                                             learning_rate, \\\n",
        "                                                             n_epochs,\\\n",
        "                                                             device)"
      ]
    },
    {
      "cell_type": "markdown",
      "id": "J7yCLgVBm-S0",
      "metadata": {
        "id": "J7yCLgVBm-S0"
      },
      "source": [
        "Khi sử dụng Dropout trong mô hình, ta cần thêm hai dòng mã để xác định mô hình đang ở chế độ huấn luyện (train mode) hoặc chế độ đánh giá (evaluation mode). Điều này quan trọng vì Dropout nên chỉ được áp dụng trong quá trình huấn luyện mô hình mà không nên ảnh hưởng đến quá trình đánh giá mô hình với dữ liệu kiểm tra.\n",
        "\n",
        "Cũng giống như việc bạn đang ôn tập để cương. Trong quá trình ôn, bạn có thể tạm thời che đi một số thông tin hoặc ẩn đi các đáp án cụ thể để hiểu rõ hơn về chủ đề. Nhưng khi bạn bước vào kỳ thi, bạn không cần che giấu hoặc ẩn đi bất kỳ thông tin nào nữa. Lúc này, bạn cần sử dụng tất cả kiến thức mà bạn đã học để cố gắng đạt được điểm cao nhất.\n",
        "\n",
        "Tương tự, trong mô hình neural, việc sử dụng Dropout trong quá trình huấn luyện giống như việc \"che đi\" một số kết nối ngẫu nhiên để ngăn chặn overfitting. Nhưng khi mô hình được đánh giá với dữ liệu kiểm tra, không cần áp dụng Dropout nữa, và mô hình sử dụng toàn bộ kiến thức để đưa ra dự đoán tốt nhất."
      ]
    },
    {
      "cell_type": "markdown",
      "id": "MAWyTY6hciVh",
      "metadata": {
        "id": "MAWyTY6hciVh"
      },
      "source": [
        "## L2 Regularization"
      ]
    },
    {
      "cell_type": "code",
      "execution_count": 11,
      "id": "qKN-2eQ1eVbS",
      "metadata": {
        "id": "qKN-2eQ1eVbS"
      },
      "outputs": [],
      "source": [
        "import torch\n",
        "import torch.nn as nn\n",
        "import torch.nn.functional as F\n",
        "\n",
        "class Model(nn.Module):\n",
        "    def __init__(self):\n",
        "        super().__init__()\n",
        "        # Assume 3 hidden layers, each with 200 units\n",
        "        self.input = nn.Linear(784, 200)\n",
        "        self.hd1 = nn.Linear(200, 200)\n",
        "        self.hd2 = nn.Linear(200, 200)\n",
        "        self.hd3 = nn.Linear(200, 10)\n",
        "\n",
        "        self.layers = [self.input, self.hd1, self.hd2]\n",
        "\n",
        "    def forward(self, x):\n",
        "        # Forward pass\n",
        "        for layer in self.layers:\n",
        "            x = layer(x)\n",
        "            # Apply ReLU Activation Function\n",
        "            x = torch.relu(x)\n",
        "\n",
        "        out = self.hd3(x)\n",
        "\n",
        "        return out\n",
        "\n",
        "def train_model(model, train_loader, valid_loader, \\\n",
        "                loss_fn, optimizer_algorithm, lr, n_epochs, device, weight_decay):\n",
        "\n",
        "    # Get the optimizer function based on the provided algorithm name\n",
        "    opt_fn = getattr(torch.optim, optimizer_algorithm)\n",
        "\n",
        "    ### New code\n",
        "    # L2 regularization\n",
        "    optimizer = opt_fn(model.parameters(), lr=lr, weight_decay = weight_decay)\n",
        "    #####\n",
        "\n",
        "    # Lists to store losses and training accuracy\n",
        "    losses = torch.zeros(n_epochs, len(train_loader))\n",
        "    train_acc = torch.zeros(n_epochs, len(train_loader))\n",
        "    valid_acc = torch.zeros(n_epochs, len(valid_loader))\n",
        "\n",
        "    for epoch in range(n_epochs):\n",
        "        for i, (x, y) in enumerate(train_loader):\n",
        "            # Convert x, y to GPU\n",
        "            x = x.to(device)\n",
        "            y = y.to(device)\n",
        "\n",
        "            out = model.forward(x)\n",
        "\n",
        "            # Calculate loss\n",
        "            loss = loss_fn(out, y)\n",
        "\n",
        "            # Backpropagation\n",
        "            loss.backward()\n",
        "            optimizer.step()\n",
        "            optimizer.zero_grad()\n",
        "\n",
        "            # Store the loss\n",
        "            losses[epoch, i] = loss.item()\n",
        "\n",
        "            # Calculate training accuracy\n",
        "            acc = 100 * (out.argmax(1) == y).float().mean()\n",
        "            train_acc[epoch, i] = acc\n",
        "\n",
        "            # Evaluation on validation data\n",
        "            with torch.no_grad():\n",
        "                for j, (x, y) in enumerate(valid_loader):\n",
        "                    # Convert x, y to GPU\n",
        "                    x = x.to(device)\n",
        "                    y = y.to(device)\n",
        "\n",
        "                    out = model.forward(x)\n",
        "\n",
        "                    acc = 100 * (out.argmax(1) == y).float().mean()\n",
        "                    valid_acc[epoch, j] = acc\n",
        "\n",
        "    return model, losses, train_acc, valid_acc"
      ]
    },
    {
      "cell_type": "code",
      "execution_count": 12,
      "id": "IiTzrFqkY7F3",
      "metadata": {
        "id": "IiTzrFqkY7F3"
      },
      "outputs": [],
      "source": [
        "n_epochs = 1\n",
        "weight_decay = .0001\n",
        "\n",
        "model = Model().to(device)\n",
        "\n",
        "parameters, losses, train_acc, valid_acc = train_model(model, \\\n",
        "                                                             train_loader, \\\n",
        "                                                             valid_loader, \\\n",
        "                                                             loss_fn, \\\n",
        "                                                             optimizer_algorithm, \\\n",
        "                                                             learning_rate, \\\n",
        "                                                             n_epochs,\\\n",
        "                                                             device, \\\n",
        "                                                             weight_decay)"
      ]
    },
    {
      "cell_type": "markdown",
      "id": "Lf9DzOiHY7z1",
      "metadata": {
        "id": "Lf9DzOiHY7z1"
      },
      "source": [
        "Công thức L2 regularization được sử dụng để kiểm soát giá trị tuyệt đối của trọng số (weight) trong mô hình và thêm nó vào hàm mất mát (loss). Công thức này có dạng:\n",
        "\n",
        "$$\n",
        "L2\\_Loss = \\frac{\\lambda}{2} \\sum_{i=1}^{n} w_i^2\n",
        "$$\n",
        "\n",
        "Trong đó:\n",
        "- ${\\lambda}$: là tham số \"weight decay\" (điều chỉnh mức độ của regularization).\n",
        "\n",
        "- ${n}$ là số lượng trọng số (weight) trong mô hình.\n",
        "\n",
        "- ${w_i}$ là trọng số thứ $i$ của mô hình.\n"
      ]
    },
    {
      "cell_type": "markdown",
      "id": "DeB7F4iqdlBV",
      "metadata": {
        "id": "DeB7F4iqdlBV"
      },
      "source": [
        "L2 regularization sẽ thêm một tham số gọi là \"weight decay\" vào hàm mất mát (loss function) của mô hình. Thay vì để mô hình tự do tạo ra các trọng số có giá trị lớn và phức tạp, L2 regularization áp đặt một giới hạn để kiểm soát giá trị tuyệt đối của chúng.\n",
        "\n",
        "Hãy tưởng tượng rằng bạn đang ôn thi và cần học một đề cương phức tạp. Thay vì nỗ lực học thuộc lòng từng phần chi tiết của đề cương, bạn quyết định tập trung vào các khái niệm và nguyên tắc tổng quan. Bạn thiết lập một giới hạn cho mức độ chi tiết bạn nên nắm vững, giúp bạn hiểu sâu hơn về chủ đề mà không bị lạc hướng vào những thông tin không quan trọng. Tương tự, L2 regularization giúp mô hình tập trung vào các đặc trưng quan trọng và kiểm soát sự phụ thuộc vào những chi tiết không cần thiết, đồng thời giúp ngăn chặn hiện tượng overfitting (học thuộc lòng đáp án) trong quá trình học."
      ]
    },
    {
      "cell_type": "markdown",
      "id": "4S3SiEPqcnjJ",
      "metadata": {
        "id": "4S3SiEPqcnjJ"
      },
      "source": [
        "## Batch Normalization"
      ]
    },
    {
      "cell_type": "code",
      "execution_count": 13,
      "id": "uHbHY75DfKjA",
      "metadata": {
        "id": "uHbHY75DfKjA"
      },
      "outputs": [],
      "source": [
        "import torch\n",
        "import torch.nn as nn\n",
        "import torch.nn.functional as F\n",
        "\n",
        "class Model(nn.Module):\n",
        "    def __init__(self):\n",
        "        super().__init__()\n",
        "        # Assume 3 hidden layers, each with 200 units\n",
        "        self.input = nn.Linear(784, 200)\n",
        "        self.hd1 = nn.Linear(200, 200)\n",
        "        self.hd2 = nn.Linear(200, 200)\n",
        "        self.hd3 = nn.Linear(200, 10)\n",
        "\n",
        "        ### New Code\n",
        "        # Batch Normalization layers\n",
        "        self.bn1 = nn.BatchNorm1d(200)\n",
        "        self.bn2 = nn.BatchNorm1d(200)\n",
        "\n",
        "        self.layers = [self.input, self.bn1,self.hd1, self.bn2, self.hd2]\n",
        "        #########\n",
        "\n",
        "    def forward(self, x):\n",
        "        # Forward pass\n",
        "        for layer in self.layers:\n",
        "            x = layer(x)\n",
        "            # Apply ReLU Activation Function\n",
        "            x = torch.relu(x)\n",
        "\n",
        "        out = self.hd3(x)\n",
        "\n",
        "        return out\n",
        "\n",
        "def train_model(model, train_loader, valid_loader, \\\n",
        "                loss_fn, optimizer_algorithm, lr, n_epochs, device):\n",
        "\n",
        "    # Get the optimizer function based on the provided algorithm name\n",
        "    opt_fn = getattr(torch.optim, optimizer_algorithm)\n",
        "    optimizer = opt_fn(model.parameters(), lr=lr)\n",
        "\n",
        "    # Lists to store losses and training accuracy\n",
        "    losses = torch.zeros(n_epochs, len(train_loader))\n",
        "    train_acc = torch.zeros(n_epochs, len(train_loader))\n",
        "    valid_acc = torch.zeros(n_epochs, len(valid_loader))\n",
        "\n",
        "    for epoch in range(n_epochs):\n",
        "        for i, (x, y) in enumerate(train_loader):\n",
        "            # Convert x, y to GPU\n",
        "            x = x.to(device)\n",
        "            y = y.to(device)\n",
        "\n",
        "            out = model.forward(x)\n",
        "\n",
        "            # Calculate loss\n",
        "            loss = loss_fn(out, y)\n",
        "\n",
        "            # Backpropagation\n",
        "            loss.backward()\n",
        "            optimizer.step()\n",
        "            optimizer.zero_grad()\n",
        "\n",
        "            # Store the loss\n",
        "            losses[epoch, i] = loss.item()\n",
        "\n",
        "            # Calculate training accuracy\n",
        "            acc = 100 * (out.argmax(1) == y).float().mean()\n",
        "            train_acc[epoch, i] = acc\n",
        "\n",
        "            # Evaluation on validation data\n",
        "            with torch.no_grad():\n",
        "                for j, (x, y) in enumerate(valid_loader):\n",
        "                    # Convert x, y to GPU\n",
        "                    x = x.to(device)\n",
        "                    y = y.to(device)\n",
        "\n",
        "                    out = model.forward(x)\n",
        "\n",
        "                    acc = 100 * (out.argmax(1) == y).float().mean()\n",
        "                    valid_acc[epoch, j] = acc\n",
        "\n",
        "    return model, losses, train_acc, valid_acc"
      ]
    },
    {
      "cell_type": "code",
      "execution_count": 14,
      "id": "hrffwyapilj_",
      "metadata": {
        "id": "hrffwyapilj_"
      },
      "outputs": [],
      "source": [
        "n_epochs = 1\n",
        "model = Model().to(device)\n",
        "\n",
        "parameters, losses, train_acc, valid_acc = train_model(model, \\\n",
        "                                                             train_loader, \\\n",
        "                                                             valid_loader, \\\n",
        "                                                             loss_fn, \\\n",
        "                                                             optimizer_algorithm, \\\n",
        "                                                             learning_rate, \\\n",
        "                                                             n_epochs,\\\n",
        "                                                             device)"
      ]
    },
    {
      "cell_type": "markdown",
      "id": "zJs219aBi_cF",
      "metadata": {
        "id": "zJs219aBi_cF"
      },
      "source": [
        "![](Images/batch_normalization.png)\n",
        "\n",
        "Batch Normalization (BatchNorm) là một kỹ thuật quan trọng trong deep learning. Nó ra đời để giải quyết vấn đề trong quá trình huấn luyện mô hình, khi đầu ra của các lớp ẩn có thể trở nên quá lớn hoặc quá nhỏ, gây khó khăn cho quá trình học của mô hình. BatchNorm thực hiện chuẩn hóa đầu ra của các lớp ẩn, bằng cách đảm bảo rằng giá trị trung bình gần bằng 0 và độ lệch chuẩn gần bằng 1, ngay cả khi dữ liệu đầu vào không tuân theo phân phối chuẩn (Gaussian distribution).\n",
        "\n",
        "Ví dụ: Trong mạng neural thông thường, đầu ra của các lớp ẩn có thể thay đổi theo từng mini-batch của dữ liệu huấn luyện. BatchNorm đảm bảo rằng các đầu ra này có giá trị trung bình gần bằng 0 và độ lệch chuẩn gần bằng 1, giúp mô hình học nhanh hơn và ổn định hơn.\n",
        "\n",
        "Một điểm quan trọng cần lưu ý là BatchNorm không thường được sử dụng ở lớp ẩn cuối cùng trước khi đầu ra được đưa qua trọng số của lớp output (chỗ được đúng khung màu xanh dương). Điều này giúp duy trì tính tự nhiên của đầu ra của mô hình trong các tác vụ như phân loại, trong đó phân phối của đầu ra có thể không cần phải được chuẩn hóa.\n",
        "\n",
        "Tóm lại, Batch Normalization chuẩn hóa đầu ra của các lớp ẩn trong mô hình, đảm bảo rằng chúng luôn có giá trị trung bình gần bằng 0 và độ lệch chuẩn gần bằng 1. Điều này giúp tăng tốc quá trình huấn luyện và làm cho mô hình ổn định hơn trong deep learning."
      ]
    },
    {
      "cell_type": "markdown",
      "id": "WK1l41p5lOxn",
      "metadata": {
        "id": "WK1l41p5lOxn"
      },
      "source": [
        "## Altogether"
      ]
    },
    {
      "cell_type": "code",
      "execution_count": 15,
      "id": "RLbQ67JtRiqg",
      "metadata": {
        "id": "RLbQ67JtRiqg"
      },
      "outputs": [],
      "source": [
        "import torch\n",
        "import torch.nn as nn\n",
        "import torch.nn.functional as F\n",
        "\n",
        "class Model(nn.Module):\n",
        "    def __init__(self, dropout_rate):\n",
        "        super().__init__()\n",
        "\n",
        "        ### New Code\n",
        "        # Droput Rate\n",
        "        self.dropout_rate = dropout_rate\n",
        "        #########\n",
        "\n",
        "        # Assume 3 hidden layers, each with 200 units\n",
        "        self.input = nn.Linear(784, 200)\n",
        "        self.hd1 = nn.Linear(200, 200)\n",
        "        self.hd2 = nn.Linear(200, 200)\n",
        "        self.hd3 = nn.Linear(200, 10)\n",
        "\n",
        "        ### New Code\n",
        "        # Batch Normalization layers\n",
        "        self.bn1 = nn.BatchNorm1d(200)\n",
        "        self.bn2 = nn.BatchNorm1d(200)\n",
        "\n",
        "        self.layers = [self.input, self.bn1,self.hd1, self.bn2, self.hd2]\n",
        "        #########\n",
        "\n",
        "    def forward(self, x):\n",
        "        # Forward pass\n",
        "        for layer in self.layers:\n",
        "            x = layer(x)\n",
        "            # Apply ReLU Activation Function\n",
        "            x = torch.relu(x)\n",
        "\n",
        "            ### New Code\n",
        "            # Add droput to hidden layer\n",
        "            x = F.dropout(x, self.dropout_rate, training=self.training)\n",
        "            ##################\n",
        "\n",
        "        out = self.hd3(x)\n",
        "\n",
        "        return out\n",
        "\n",
        "def train_model(model, train_loader, valid_loader, \\\n",
        "                loss_fn, optimizer_algorithm, lr, n_epochs, device, weight_decay):\n",
        "\n",
        "    # Get the optimizer function based on the provided algorithm name\n",
        "    opt_fn = getattr(torch.optim, optimizer_algorithm)\n",
        "\n",
        "    ### New code\n",
        "    # L2 regularization\n",
        "    optimizer = opt_fn(model.parameters(), lr=lr, weight_decay = weight_decay)\n",
        "    #####\n",
        "\n",
        "    # Lists to store losses and training accuracy\n",
        "    losses = torch.zeros(n_epochs, len(train_loader))\n",
        "    train_acc = torch.zeros(n_epochs, len(train_loader))\n",
        "    valid_acc = torch.zeros(n_epochs, len(valid_loader))\n",
        "\n",
        "    for epoch in range(n_epochs):\n",
        "        for i, (x, y) in enumerate(train_loader):\n",
        "\n",
        "            ### New code\n",
        "            # Set Model to train mode\n",
        "            model.train()\n",
        "            ######\n",
        "\n",
        "            # Convert x, y to GPU\n",
        "            x = x.to(device)\n",
        "            y = y.to(device)\n",
        "\n",
        "            out = model.forward(x)\n",
        "\n",
        "            # Calculate loss\n",
        "            loss = loss_fn(out, y)\n",
        "\n",
        "            # Backpropagation\n",
        "            loss.backward()\n",
        "            optimizer.step()\n",
        "            optimizer.zero_grad()\n",
        "\n",
        "            # Store the loss\n",
        "            losses[epoch, i] = loss.item()\n",
        "\n",
        "            # Calculate training accuracy\n",
        "            acc = 100 * (out.argmax(1) == y).float().mean()\n",
        "            train_acc[epoch, i] = acc\n",
        "\n",
        "            ### New code\n",
        "            # Set Model to evaluation mode\n",
        "            model.eval()\n",
        "            ######\n",
        "\n",
        "            # Evaluation on validation data\n",
        "            with torch.no_grad():\n",
        "                for j, (x, y) in enumerate(valid_loader):\n",
        "                    # Convert x, y to GPU\n",
        "                    x = x.to(device)\n",
        "                    y = y.to(device)\n",
        "\n",
        "                    out = model.forward(x)\n",
        "\n",
        "                    acc = 100 * (out.argmax(1) == y).float().mean()\n",
        "                    valid_acc[epoch, j] = acc\n",
        "\n",
        "    return model, losses, train_acc, valid_acc"
      ]
    },
    {
      "cell_type": "code",
      "execution_count": 16,
      "id": "uJuxztTbWljM",
      "metadata": {
        "colab": {
          "base_uri": "https://localhost:8080/"
        },
        "id": "uJuxztTbWljM",
        "outputId": "1d6760e7-65a4-48d5-a7ca-0186f653520e"
      },
      "outputs": [
        {
          "name": "stdout",
          "output_type": "stream",
          "text": [
            "Model training time: 5 min 48.39s\n"
          ]
        }
      ],
      "source": [
        "import time\n",
        "start_time = time.time()\n",
        "\n",
        "n_epochs = 5\n",
        "droput_rate = .1\n",
        "weight_decay = .0001\n",
        "learning_rate = .01\n",
        "\n",
        "model = Model(droput_rate).to(device)\n",
        "\n",
        "parameters, losses, train_acc, valid_acc = train_model(model, \\\n",
        "                                                             train_loader, \\\n",
        "                                                             valid_loader, \\\n",
        "                                                             loss_fn, \\\n",
        "                                                             optimizer_algorithm, \\\n",
        "                                                             learning_rate, \\\n",
        "                                                             n_epochs,\\\n",
        "                                                             device, \\\n",
        "                                                             weight_decay)\n",
        "\n",
        "end_time = time.time()\n",
        "execution_time = end_time - start_time\n",
        "execution_time_minutes = int(execution_time // 60)\n",
        "execution_time_seconds = round(execution_time % 60, 2)\n",
        "print(f\"Model training time: {execution_time_minutes} min {execution_time_seconds}s\")"
      ]
    },
    {
      "cell_type": "code",
      "execution_count": 17,
      "id": "1ade3b50",
      "metadata": {
        "colab": {
          "base_uri": "https://localhost:8080/",
          "height": 321
        },
        "id": "1ade3b50",
        "outputId": "07736503-fca2-41ee-da5b-e2f90360a31b"
      },
      "outputs": [
        {
          "data": {
            "image/png": "[encoded data removed]",
            "text/plain": [
              "<Figure size 1400x300 with 2 Axes>"
            ]
          },
          "metadata": {},
          "output_type": "display_data"
        }
      ],
      "source": [
        "import matplotlib.pyplot as plt\n",
        "\n",
        "final_loss = losses.mean(1)[-1]\n",
        "final_train_acc = train_acc.mean(1)[-1]\n",
        "final_valid_acc = valid_acc.mean(1)[-1]\n",
        "\n",
        "fig, axs = plt.subplots(1, 2, figsize = (14, 3))\n",
        "\n",
        "axs[0].plot(range(losses.shape[0]), losses.mean(1), \"-o\")\n",
        "axs[0].set_title(f\"Train Loss is: {final_loss:.4f}\")\n",
        "\n",
        "\n",
        "axs[1].plot(range(train_acc.shape[0]), train_acc.mean(1), \"-o\")\n",
        "axs[1].plot(range(valid_acc.shape[0]), valid_acc.mean(1), \"-o\")\n",
        "axs[1].set_title(f\"Train: {final_train_acc:.2f}%, Valid: {final_valid_acc:.2f}%\")\n",
        "axs[1].legend([\"Train\", \"Valid\"])\n",
        "\n",
        "plt.suptitle(f\"Result with NN + Regularization\", fontsize = 16)\n",
        "plt.show()"
      ]
    },
    {
      "cell_type": "markdown",
      "id": "7cfb2d43",
      "metadata": {
        "id": "7cfb2d43"
      },
      "source": [
        "Kết quả đã không tăng mà còn giảm đi nữa. Hãy cùng xem xét liệu có thể có kết quả tích cực hơn đối với tập dữ liệu kiểm tra không nhé!"
      ]
    },
    {
      "cell_type": "code",
      "execution_count": 18,
      "id": "925bdbf3",
      "metadata": {
        "id": "925bdbf3"
      },
      "outputs": [],
      "source": [
        "x_test = test_dataset.data\n",
        "y_test = test_dataset.targets\n",
        "\n",
        "# Reshape and cast the input data\n",
        "x_test = x_test.view(-1, 784)\n",
        "x_test = x_test.to(torch.float32)\n",
        "x_test_norm = min_max_scale(x_test)\n",
        "\n",
        "# Cast the target labels to the 'long' data type\n",
        "y_test = y_test.to(torch.long)"
      ]
    },
    {
      "cell_type": "code",
      "execution_count": 19,
      "id": "9cfa7ffb",
      "metadata": {
        "colab": {
          "base_uri": "https://localhost:8080/"
        },
        "id": "9cfa7ffb",
        "outputId": "45356cb2-1783-4add-cb2a-8ffa9d4214d9"
      },
      "outputs": [
        {
          "name": "stdout",
          "output_type": "stream",
          "text": [
            "In 10000 images, model guess wrong 1883\n",
            "Accuracy is: 81.17%\n"
          ]
        }
      ],
      "source": [
        "model.eval()\n",
        "out = model.forward(x_test_norm.to(device)).cpu()\n",
        "model.train()\n",
        "\n",
        "test_acc = 100 * (out.argmax(1) == y_test).float().mean()\n",
        "\n",
        "ids_error = (out.argmax(1) != y_test).nonzero()\n",
        "print(f\"In {len(y_test)} images, model guess wrong {len(ids_error)}\")\n",
        "print(f\"Accuracy is: {test_acc:.2f}%\")"
      ]
    },
    {
      "cell_type": "markdown",
      "id": "cd84afa8",
      "metadata": {
        "id": "cd84afa8"
      },
      "source": [
        "Kết quả đã giảm so với khi không sử dụng regularization, nhưng điều này có thể là một kết quả hợp lý. Regularization thường được sử dụng để ngăn chặn hiện tượng overfitting, tức là mô hình quá tinh chỉnh để phù hợp với dữ liệu huấn luyện một cách quá mức. Tuy nhiên, trong trường hợp của chúng ta, mô hình ban đầu đã chỉ đạt đến mức độ chính xác gần 85% trên tập dữ liệu huấn luyện. Do đó, việc áp dụng regularization có thể khiến mô hình trở nên quá cứng rắn và không thể học được từ dữ liệu huấn luyện một cách hiệu quả, dẫn đến giảm hiệu suất trên tập dữ liệu kiểm tra.\n",
        "\n",
        "Hãy tiếp tục hành trình với việc áp dụng kỹ thuật regularization lên Convolutional Neural Network (CNN). Chúng ta sẽ khám phá xem liệu việc này có thể mang lại kết quả tích cực hơn không. Chương tiếp theo sẽ giúp chúng ta tiếp tục khám phá những khả năng và tiềm năng của mô hình này. Hãy cùng nhau đón xem và tiến sâu vào nghiên cứu trong chương tiếp theo!"
      ]
    },
    {
      "cell_type": "code",
      "execution_count": 20,
      "id": "zytiRbANEeQD",
      "metadata": {
        "colab": {
          "base_uri": "https://localhost:8080/",
          "height": 732
        },
        "id": "zytiRbANEeQD",
        "outputId": "1100e976-a2db-4830-bee4-af755d5ad8d3"
      },
      "outputs": [
        {
          "data": {
            "image/png": "[encoded data removed]",
            "text/plain": [
              "<Figure size 1600x800 with 9 Axes>"
            ]
          },
          "metadata": {},
          "output_type": "display_data"
        }
      ],
      "source": [
        "fig, axs = plt.subplots(3, 3, figsize=(16, 8))\n",
        "\n",
        "for ax in axs.flatten():\n",
        "    # Select a random index from the output\n",
        "    random_index = np.random.choice(len(out))\n",
        "\n",
        "    # Display the image at the selected index with colormap gray for correct predictions\n",
        "    true_label = y_test[random_index]\n",
        "    guess_label = out.argmax(1)[random_index]\n",
        "\n",
        "    if true_label == guess_label:\n",
        "        ax.imshow(x_test[random_index].view(28, 28), cmap=\"gray\")\n",
        "    else:\n",
        "        ax.imshow(x_test[random_index].view(28, 28))\n",
        "\n",
        "\n",
        "    ax.set_title(f\"Guess: {classes[guess_label]}, True: {classes[true_label]}\")\n",
        "    ax.axis(\"off\")\n",
        "\n",
        "plt.suptitle(\"Result\", fontsize=16)\n",
        "plt.show()"
      ]
    },
    {
      "cell_type": "code",
      "execution_count": 20,
      "id": "_SH5k04OExsk",
      "metadata": {
        "id": "_SH5k04OExsk"
      },
      "outputs": [],
      "source": []
    }
  ],
  "metadata": {
    "accelerator": "GPU",
    "colab": {
      "gpuType": "T4",
      "provenance": []
    },
    "kernelspec": {
      "display_name": "Python 3",
      "name": "python3"
    },
    "language_info": {
      "codemirror_mode": {
        "name": "ipython",
        "version": 3
      },
      "file_extension": ".py",
      "mimetype": "text/x-python",
      "name": "python",
      "nbconvert_exporter": "python",
      "pygments_lexer": "ipython3",
      "version": "3.11.4"
    }
  },
  "nbformat": 4,
  "nbformat_minor": 5
}
