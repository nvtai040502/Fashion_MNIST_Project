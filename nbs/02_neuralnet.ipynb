{
 "cells": [
  {
   "cell_type": "markdown",
   "id": "98MqwtcgB5px",
   "metadata": {},
   "source": [
    "# Neural Network"
   ]
  },
  {
   "cell_type": "markdown",
   "id": "78b47ca3",
   "metadata": {},
   "source": [
    "## Code chương trước"
   ]
  },
  {
   "cell_type": "code",
   "execution_count": 1,
   "id": "29006b79",
   "metadata": {},
   "outputs": [
    {
     "name": "stdout",
     "output_type": "stream",
     "text": [
      "Total Mini-Batches: 375\n",
      "Shape of Each Mini-Batch: torch.Size([128, 784])\n",
      "\n",
      "Total Mini-Batches: 94\n",
      "Shape of Each Mini-Batch: torch.Size([128, 784])\n",
      "\n"
     ]
    }
   ],
   "source": [
    "# Download Data\n",
    "import torch\n",
    "import numpy as np\n",
    "from torchvision import datasets\n",
    "\n",
    "train_dataset = datasets.FashionMNIST(root='./data', train=True, download=True)\n",
    "test_dataset = datasets.FashionMNIST(root='./data', train=False, download=True)\n",
    "\n",
    "# constant for classes\n",
    "classes = ['T-shirt/top', 'Trouser', 'Pullover', 'Dress', 'Coat',\n",
    "        'Sandal', 'Shirt', 'Sneaker', 'Bag', 'Ankle Boot']\n",
    "\n",
    "x = train_dataset.data\n",
    "y = train_dataset.targets\n",
    "\n",
    "### New code\n",
    "# Reshape and cast the input data\n",
    "x = x.view(-1, 784)\n",
    "x = x.to(torch.float32)\n",
    "\n",
    "# Cast the target labels to the 'long' data type\n",
    "y = y.to(torch.long)\n",
    "###\n",
    "\n",
    "# Split data into train & valid set\n",
    "from sklearn.model_selection import train_test_split\n",
    "\n",
    "valid_pct = .2\n",
    "x_train, x_valid, y_train, y_valid = train_test_split(x, y, test_size = valid_pct)\n",
    "\n",
    "# Normalization\n",
    "def min_max_scale(data, a=0, b=1):\n",
    "    # Calculate the minimum and maximum values of the data\n",
    "    data_min = data.min()\n",
    "    data_max = data.max()\n",
    "\n",
    "    # Perform Min-Max Scaling\n",
    "    data_norm = (data - data_min) / (data_max - data_min)\n",
    "\n",
    "    # Rescale the data to the [a, b] range\n",
    "    data_norm = a + data_norm * (b - a)\n",
    "\n",
    "    return data_norm\n",
    "\n",
    "x_train_norm = min_max_scale(x_train)\n",
    "x_valid_norm = min_max_scale(x_valid)\n",
    "\n",
    "# Load data\n",
    "from torch.utils.data import TensorDataset, DataLoader\n",
    "\n",
    "def load_data(x_tensor, y_tensor, batch_size, test):\n",
    "    data = TensorDataset(x_tensor, y_tensor)\n",
    "\n",
    "    data_loader = DataLoader(data, batch_size=batch_size, shuffle=not test, drop_last=not test)\n",
    "\n",
    "    print(f\"Total Mini-Batches: {len(data_loader)}\")\n",
    "    for i, (x, y) in enumerate(data_loader):\n",
    "        if i == 0:\n",
    "            print(f\"Shape of Each Mini-Batch: {x.shape}\")\n",
    "            print(\"\")\n",
    "            break\n",
    "    return data_loader\n",
    "\n",
    "batch_size = 128\n",
    "train_loader = load_data(x_train, y_train, batch_size=batch_size, test = False)\n",
    "valid_loader = load_data(x_valid, y_valid, batch_size=batch_size, test=True)"
   ]
  },
  {
   "cell_type": "markdown",
   "id": "QzWNazrh-Nun",
   "metadata": {},
   "source": [
    "Trong đoạn mã trên, tôi đã bổ sung một đoạn code đã được dùng nhiều lần ở chương trước để tiến hành việc thay đổi kích thước của biến x, đồng thời thay đổi kiểu dữ liệu (dtype) cho cả x và y. Những thay đổi này được thêm vào để tránh việc lặp lại các bước này khi đang huấn luyện mô hình."
   ]
  },
  {
   "cell_type": "markdown",
   "id": "cac3c21c",
   "metadata": {},
   "source": [
    "Trong mạng neural (neural network), có hai khái niệm quan trọng cần được nhắc đến đó là:\n",
    "\n",
    "+ **Hidden Layer (Fully Connected Layer)**\n",
    "\n",
    "+ **Activation Function** "
   ]
  },
  {
   "cell_type": "markdown",
   "id": "c4f90f22",
   "metadata": {},
   "source": [
    "## Hidden Layer\n",
    "\n",
    "> Fully connected Layer"
   ]
  },
  {
   "cell_type": "markdown",
   "id": "22405263",
   "metadata": {},
   "source": [
    "<img src=\"./Images/Linear.png\" alt=\"Simple Neural Network\" style=\"width: 550px;\"/>\n",
    "\n",
    "Đây là hình ảnh của một **mạng neural đơn giản**, hay có thể gọi là **Linear Layer**, mà chúng ta đã thảo luận trong chương trước. Trong hình ảnh này, mạng neural đơn giản được minh họa với 5 đầu vào và 3 đầu ra. Tuy nhiên, trong trường hợp dữ liệu Fashion MNIST mà chúng ta đang xem xét, thực tế là có 784 đầu vào và 10 đầu ra. Đây chỉ là một ví dụ minh họa để giúp chúng ta hiểu cách mạng neural hoạt động. "
   ]
  },
  {
   "cell_type": "markdown",
   "id": "dbf1f93b",
   "metadata": {},
   "source": [
    "<img src=\"./Images/DeepNeuralNetwork.png\" alt=\"Deep Neural Network\" style=\"width: 550px;\"/>\n",
    "\n",
    "Mạng Nơ-ron bao gồm các lớp ẩn (hidden layer) nằm giữa lớp đầu vào và lớp đầu ra. Trong hình ảnh này, có 3 lớp ẩn, mỗi lớp ẩn bao gồm 5 units (biểu tượng bởi các hình tròn trong hình). Trong khi đó, Linear Layer mà chúng ta đã thảo luận trong chương trước được xem như không có lớp ẩn và không có đơn vị (units) nằm ở các lớp ẩn.\n",
    "\n",
    "Ở đây, khi một unit được kết nối với tất cả các units ở lớp trước đó, chúng ta có thuật ngữ là Fully Connected Layer (Lớp Kết Nối Đầy Đủ).\n",
    "\n",
    "Trong thực tế, quyết định có bao nhiêu lớp hidden layer và mỗi lớp ẩn có bao nhiêu đơn vị là hoàn toàn linh hoạt và phụ thuộc vào bài toán cụ thể bạn đang giải quyết. Điều quan trọng là bạn cần xác định rõ lớp đầu vào và lớp đầu ra. Ví dụ, trong Fashion MNIST, lớp đầu vào luôn có 784 đơn vị và lớp đầu ra luôn có 10 đơn vị để phù hợp với dữ liệu."
   ]
  },
  {
   "cell_type": "markdown",
   "id": "3a95c829",
   "metadata": {},
   "source": [
    "## Activation Function"
   ]
  },
  {
   "cell_type": "markdown",
   "id": "1f942867",
   "metadata": {},
   "source": [
    "<img src=\"./Images/ActivationFunction.png\" alt=\"ActivationFunction\" style=\"width: 650px;\"/>\n",
    "\n",
    "Hàm kích hoạt (activation function) trong mạng neural là một yếu tố quan trọng quyết định cách mỗi neuron hoặc nút (node) trong mạng phản ứng và truyền giá trị đến các neuron trong lớp tiếp theo. Hàm kích hoạt giúp mạng neural học và biểu diễn các mô hình phức tạp, đặc biệt là các mô hình phi tuyến tính.\n",
    "\n",
    "Trong mạng neural, hầu hết các unit hay nút (node) ở các lớp ẩn (hidden layer) đều cần phải đi qua hàm activation, trong khi các unit ở lớp đầu vào (input layer) và lớp đầu ra (output layer) thường không cần sử dụng hàm activation.\n",
    "\n",
    "Có một số hàm activation function phổ biến được sử dụng trong deep learning, bao gồm:\n",
    "\n",
    "- Sigmoid\n",
    "\n",
    "- ReLu (Rectified Linear Unit)\n",
    "\n",
    "- Softmax"
   ]
  },
  {
   "cell_type": "code",
   "execution_count": 2,
   "id": "acca621d",
   "metadata": {},
   "outputs": [
    {
     "data": {
      "text/plain": [
       "tensor([0.9820, 0.0000, 0.0474, 1.0000])"
      ]
     },
     "execution_count": 2,
     "metadata": {},
     "output_type": "execute_result"
    }
   ],
   "source": [
    "import torch\n",
    "\n",
    "example = torch.tensor([4., -100., -3., 100.])\n",
    "\n",
    "sigmoid_result = torch.sigmoid(example)\n",
    "sigmoid_result"
   ]
  },
  {
   "cell_type": "markdown",
   "id": "18eda7a0",
   "metadata": {},
   "source": [
    "**Sigmoid**: Hàm kích hoạt này là một hàm đơn giản biến đổi mọi số thành giá trị nằm trong khoảng từ 0 đến 1."
   ]
  },
  {
   "cell_type": "code",
   "execution_count": 3,
   "id": "dd7c6503",
   "metadata": {},
   "outputs": [
    {
     "data": {
      "text/plain": [
       "tensor([  4.,   0.,   0., 100.])"
      ]
     },
     "execution_count": 3,
     "metadata": {},
     "output_type": "execute_result"
    }
   ],
   "source": [
    "example = torch.tensor([4., -100., -3., 100.])\n",
    "\n",
    "relu_result = torch.relu(example)\n",
    "relu_result"
   ]
  },
  {
   "cell_type": "markdown",
   "id": "6c8fe0cc",
   "metadata": {},
   "source": [
    "**ReLU (Rectified Linear Unit)** là một hàm đơn giản với công thức f(x) = max(0, x), nghĩa là nó chuyển đổi mọi giá trị âm thành 0 và giữ nguyên giá trị dương."
   ]
  },
  {
   "cell_type": "code",
   "execution_count": 4,
   "id": "4f0b3494",
   "metadata": {},
   "outputs": [
    {
     "name": "stdout",
     "output_type": "stream",
     "text": [
      "tensor([2.0305e-42, 0.0000e+00, 1.4013e-45, 1.0000e+00])\n",
      "0.00\n",
      "0.00\n",
      "0.00\n",
      "1.00\n"
     ]
    }
   ],
   "source": [
    "example = torch.tensor([4., -100., -3., 100.])\n",
    "\n",
    "softmax_result = torch.softmax(example, dim=0)\n",
    "\n",
    "# Print the values of the tensor with decimal formatting\n",
    "print(softmax_result)\n",
    "for value in softmax_result:\n",
    "    print(f'{value:.2f}')"
   ]
  },
  {
   "cell_type": "markdown",
   "id": "f40ef744",
   "metadata": {},
   "source": [
    "**Softmax** là một hàm kích hoạt (activation function) được sử dụng trong mạng neural để biến đổi một tensor thành một phân phối xác suất, tức là nó chuyển đổi mọi giá trị trong tensor sao cho tổng của chúng bằng 1."
   ]
  },
  {
   "cell_type": "markdown",
   "id": "6da1a41e",
   "metadata": {},
   "source": [
    "Thông thường, **ReLU** là một hàm activation function phổ biến được sử dụng trong các lớp ẩn (hidden layers) của mạng neural. Vì vậy, trong mô hình của mình, tôi sẽ lựa chọn sử dụng ReLU như một hàm kích hoạt cho các lớp ẩn của mạng neural. "
   ]
  },
  {
   "cell_type": "markdown",
   "id": "d441de05",
   "metadata": {},
   "source": [
    "## Kết hợp tất cả lại với nhau"
   ]
  },
  {
   "cell_type": "code",
   "execution_count": 5,
   "id": "12803aea",
   "metadata": {},
   "outputs": [],
   "source": [
    "def train_model(train_loader, valid_loader, loss_fn, \\\n",
    "                optimizer_algorithm, lr, n_epochs):\n",
    "    \n",
    "    # Assume 3 hidden layers, each with 200 units\n",
    "    weight_input = torch.randn(784, 200, requires_grad=True)\n",
    "    bias_input = torch.zeros(200, requires_grad=True)\n",
    "    \n",
    "    weight_hd1 = torch.randn(200, 200, requires_grad=True)\n",
    "    bias_hd1 = torch.zeros(200, requires_grad=True)\n",
    "    \n",
    "    weight_hd2 = torch.randn(200, 200, requires_grad=True)\n",
    "    bias_hd2 = torch.zeros(200, requires_grad=True)\n",
    "    \n",
    "    weight_hd3 = torch.randn(200, 10, requires_grad=True)\n",
    "    bias_hd3 = torch.zeros(10, requires_grad=True)\n",
    "    \n",
    "    parameters = [weight_input, bias_input, weight_hd1, bias_hd1, \\\n",
    "                  weight_hd2, bias_hd2, weight_hd3, bias_hd3]\n",
    "    \n",
    "    # Get the optimizer function based on the provided algorithm name\n",
    "    opt_fn = getattr(torch.optim, optimizer_algorithm)\n",
    "    optimizer = opt_fn(parameters, lr=lr)\n",
    "\n",
    "    # Lists to store losses and training accuracy\n",
    "    losses = torch.zeros(n_epochs, len(train_loader))\n",
    "    train_acc = torch.zeros(n_epochs, len(train_loader))\n",
    "    valid_acc = torch.zeros(n_epochs, len(valid_loader))\n",
    "\n",
    "    for epoch in range(n_epochs):\n",
    "        for i, (x, y) in enumerate(train_loader):\n",
    "            \n",
    "            # Forward pass\n",
    "            hd1 = x @ weight_input + bias_input\n",
    "            hd1 = torch.relu(hd1)\n",
    "            \n",
    "            hd2 = hd1 @ weight_hd1 + bias_hd1\n",
    "            hd2 = torch.relu(hd2)\n",
    "            \n",
    "            hd3 = hd2 @ weight_hd2 + bias_hd2\n",
    "            hd3 = torch.relu(hd3)\n",
    "            \n",
    "            out = hd3 @ weight_hd3 + bias_hd3\n",
    "            \n",
    "            # Calculate loss\n",
    "            loss = loss_fn(out, y)\n",
    "\n",
    "            # Backpropagation\n",
    "            loss.backward()\n",
    "            optimizer.step()\n",
    "            optimizer.zero_grad()\n",
    "\n",
    "            # Store the loss\n",
    "            losses[epoch, i] = loss.item()\n",
    "\n",
    "            # Calculate training accuracy\n",
    "            acc = 100 * (out.argmax(1) == y).float().mean()\n",
    "            train_acc[epoch, i] = acc\n",
    "\n",
    "            # Evaluation on validation data\n",
    "            with torch.no_grad():\n",
    "                for j, (x, y) in enumerate(valid_loader):\n",
    "                    hd1 = x @ weight_input + bias_input\n",
    "                    hd1 = torch.relu(hd1)\n",
    "\n",
    "                    hd2 = hd1 @ weight_hd1 + bias_hd1\n",
    "                    hd2 = torch.relu(hd2)\n",
    "\n",
    "                    hd3 = hd2 @ weight_hd2 + bias_hd2\n",
    "                    hd3 = torch.relu(hd3)\n",
    "\n",
    "                    out = hd3 @ weight_hd3 + bias_hd3\n",
    "                    \n",
    "                    acc = 100 * (out.argmax(1) == y).float().mean()\n",
    "                    valid_acc[epoch, j] = acc\n",
    "\n",
    "    return parameters, losses, train_acc, valid_acc"
   ]
  },
  {
   "cell_type": "markdown",
   "id": "Efh_np0m_NOv",
   "metadata": {},
   "source": [
    "Trong đoạn code trên, tôi sử dụng một kiến trúc mạng neural (neural network architecture) với 3 lớp ẩn (hidden layer), mỗi lớp ẩn bao gồm 200 units."
   ]
  },
  {
   "cell_type": "code",
   "execution_count": 6,
   "id": "8487a0a1",
   "metadata": {},
   "outputs": [],
   "source": [
    "import torch\n",
    "import torch.nn as nn\n",
    "\n",
    "class Model(nn.Module):\n",
    "    def __init__(self):\n",
    "        super().__init__()\n",
    "        \n",
    "        # Assume 3 hidden layers, each with 200 units\n",
    "        self.input = nn.Linear(784, 200)\n",
    "        self.hd1 = nn.Linear(200, 200)\n",
    "        self.hd2 = nn.Linear(200, 200)\n",
    "        self.hd3 = nn.Linear(200, 10)\n",
    "        \n",
    "        self.layers = [self.input, self.hd1, self.hd2]\n",
    "\n",
    "    def forward(self, x):\n",
    "        # Forward pass\n",
    "        for layer in self.layers:\n",
    "            x = layer(x)\n",
    "            # Apply ReLU Activation Function\n",
    "            x = torch.relu(x)\n",
    "            \n",
    "        out = self.hd3(x)\n",
    "        \n",
    "        return out\n",
    "\n",
    "def train_model(model, train_loader, valid_loader, \\\n",
    "                loss_fn, optimizer_algorithm, lr, n_epochs):\n",
    "    \n",
    "    # Get the optimizer function based on the provided algorithm name\n",
    "    opt_fn = getattr(torch.optim, optimizer_algorithm)\n",
    "    optimizer = opt_fn(model.parameters(), lr=lr)\n",
    "\n",
    "    # Lists to store losses and training accuracy\n",
    "    losses = torch.zeros(n_epochs, len(train_loader))\n",
    "    train_acc = torch.zeros(n_epochs, len(train_loader))\n",
    "    valid_acc = torch.zeros(n_epochs, len(valid_loader))\n",
    "\n",
    "    for epoch in range(n_epochs):\n",
    "        for i, (x, y) in enumerate(train_loader):\n",
    "            out = model.forward(x)\n",
    "            \n",
    "            # Calculate loss\n",
    "            loss = loss_fn(out, y)\n",
    "\n",
    "            # Backpropagation\n",
    "            loss.backward()\n",
    "            optimizer.step()\n",
    "            optimizer.zero_grad()\n",
    "\n",
    "            # Store the loss\n",
    "            losses[epoch, i] = loss.item()\n",
    "\n",
    "            # Calculate training accuracy\n",
    "            acc = 100 * (out.argmax(1) == y).float().mean()\n",
    "            train_acc[epoch, i] = acc\n",
    "\n",
    "            # Evaluation on validation data\n",
    "            with torch.no_grad():\n",
    "                for j, (x, y) in enumerate(valid_loader):\n",
    "                    \n",
    "                    out = model.forward(x)\n",
    "                    \n",
    "                    acc = 100 * (out.argmax(1) == y).float().mean()\n",
    "                    valid_acc[epoch, j] = acc\n",
    "\n",
    "    return model, losses, train_acc, valid_acc"
   ]
  },
  {
   "cell_type": "markdown",
   "id": "67723943",
   "metadata": {},
   "source": [
    "Phiên bản code trước đó có vẻ \"rối như mạng nhện\", tuy nhiên, bây giờ chúng ta đã sử dụng PyTorch như một cây chổi để dọn dẹp cái mạng nhện ấy, để lại cho chúng ta một phiên bản code \"sáng sủa như bình minh\".\n",
    "\n",
    "Bằng cách sử dụng PyTorch, chúng ta đã tạo ra một phiên bản code sạch sẽ và hiệu quả hơn. Điều quan trọng là chúng ta hiểu rõ từng dòng code đang làm gì. Mã clean và PyTorch giống như cặp đôi hoàn hảo, giúp chúng ta tiết kiệm thời gian và nỗ lực trong việc xây dựng các mô hình Deep Learning phức tạp."
   ]
  },
  {
   "cell_type": "code",
   "execution_count": 7,
   "id": "055edb89",
   "metadata": {},
   "outputs": [
    {
     "name": "stdout",
     "output_type": "stream",
     "text": [
      "Model training time: 9 min 32.71s\n"
     ]
    }
   ],
   "source": [
    "import time\n",
    "# Get the start time\n",
    "start_time = time.time()\n",
    "\n",
    "model = Model()\n",
    "\n",
    "# Define the loss function (CrossEntropyLoss) and optimizer algorithm (Adam)\n",
    "loss_fn = nn.CrossEntropyLoss()\n",
    "optimizer_algorithm = \"Adam\"\n",
    "\n",
    "# Set the learning rate and number of training epochs\n",
    "learning_rate = 0.01\n",
    "n_epochs = 5\n",
    "\n",
    "parameters, losses, train_acc, valid_acc = train_model(model, \\\n",
    "                                                             train_loader, \\\n",
    "                                                             valid_loader, \\\n",
    "                                                             loss_fn, \\\n",
    "                                                             optimizer_algorithm, \\\n",
    "                                                             learning_rate, \\\n",
    "                                                             n_epochs)\n",
    "\n",
    "# Get the end time\n",
    "end_time = time.time()\n",
    "\n",
    "# Calculate the execution time\n",
    "execution_time = end_time - start_time\n",
    "\n",
    "# Convert to minutes and seconds\n",
    "execution_time_minutes = int(execution_time // 60)\n",
    "execution_time_seconds = round(execution_time % 60, 2) \n",
    "\n",
    "print(f\"Model training time: {execution_time_minutes} min {execution_time_seconds}s\")"
   ]
  },
  {
   "cell_type": "code",
   "execution_count": 12,
   "id": "c4c4efc6",
   "metadata": {},
   "outputs": [
    {
     "data": {
      "image/png": "[encoded data removed]",
      "text/plain": [
       "<Figure size 1400x300 with 2 Axes>"
      ]
     },
     "metadata": {},
     "output_type": "display_data"
    }
   ],
   "source": [
    "import matplotlib.pyplot as plt\n",
    "\n",
    "final_loss = losses.mean(1)[-1]\n",
    "final_train_acc = train_acc.mean(1)[-1]\n",
    "final_valid_acc = valid_acc.mean(1)[-1]\n",
    "\n",
    "fig, axs = plt.subplots(1, 2, figsize = (14, 3))\n",
    "\n",
    "axs[0].plot(range(losses.shape[0]), losses.mean(1), \"-o\")\n",
    "axs[0].set_title(f\"Train Loss is: {final_loss:.4f}\")\n",
    "\n",
    "\n",
    "axs[1].plot(range(train_acc.shape[0]), train_acc.mean(1), \"-o\")\n",
    "axs[1].plot(range(valid_acc.shape[0]), valid_acc.mean(1), \"-o\")\n",
    "axs[1].set_title(f\"Train: {final_train_acc:.2f}%, Valid: {final_valid_acc:.2f}%\")\n",
    "axs[1].legend([\"Train\", \"Valid\"])\n",
    "\n",
    "plt.suptitle(f\"Result with {n_epochs} Epochs\", fontsize = 16)\n",
    "plt.show()"
   ]
  },
  {
   "cell_type": "markdown",
   "id": "umW6YCgQA-x9",
   "metadata": {},
   "source": [
    "Kết quả cao hơn so với simple neural network ở chương trước, xác suất dự đoán cao trên 80%. Bây giờ, hãy cùng kiểm tra để xem liệu kết quả trên tập dữ liệu kiểm tra (test set) có cao hơn so với simple neural network không."
   ]
  },
  {
   "cell_type": "code",
   "execution_count": 13,
   "id": "a6fefde5",
   "metadata": {},
   "outputs": [],
   "source": [
    "x_test = test_dataset.data\n",
    "y_test = test_dataset.targets\n",
    "\n",
    "# Reshape and cast the input data\n",
    "x_test = x_test.view(-1, 784)\n",
    "x_test = x_test.to(torch.float32)\n",
    "\n",
    "# Cast the target labels to the 'long' data type\n",
    "y_test = y_test.to(torch.long)"
   ]
  },
  {
   "cell_type": "code",
   "execution_count": 14,
   "id": "b3b22f07",
   "metadata": {},
   "outputs": [
    {
     "name": "stdout",
     "output_type": "stream",
     "text": [
      "In 10000 images, model guess wrong 1817\n",
      "Accuracy is: 81.83%\n"
     ]
    }
   ],
   "source": [
    "out = model.forward(x_test)\n",
    "\n",
    "test_acc = 100 * (out.argmax(1) == y_test).float().mean()\n",
    "\n",
    "ids_error = (out.argmax(1) != y_test).nonzero()\n",
    "print(f\"In {len(y_test)} images, model guess wrong {len(ids_error)}\")\n",
    "print(f\"Accuracy is: {test_acc:.2f}%\")"
   ]
  },
  {
   "cell_type": "markdown",
   "id": "8ba3c003",
   "metadata": {},
   "source": [
    "Với mô hình Neural Network và sau 5 epochs, chúng ta đã đạt được độ chính xác cao hơn 80% trên tập dữ liệu kiểm tra. Đây là một bước tiến so với trên 75% của Linear Layer mà chúng ta đã đạt được trong chương trước. Điều này chỉ ra rằng Neural Network có tiềm năng mạnh mẽ hơn đối với bài toán này.\n",
    "\n",
    "Tuy nhiên, câu hỏi đặt ra là liệu chúng ta có thể làm cho mô hình tốt hơn nữa không? Có phương pháp nào để tối ưu hóa mô hình hiện tại và nâng cao xác suất dự đoán?\n",
    "\n",
    "Chúng ta sẽ tiếp tục khám phá những phương pháp tiên tiến trong các chương tiếp theo, bao gồm Regularization để ngăn chặn overfitting, kết hợp với sử dụng GPU để tăng tốc độ huấn luyện và cải thiện hiệu suất. Đó chính là những cách mạnh mẽ để cải thiện hiệu suất của mô hình và làm cho nó trở nên mạnh mẽ và ổn định hơn!"
   ]
  },
  {
   "cell_type": "code",
   "execution_count": 19,
   "id": "1ade3b50",
   "metadata": {},
   "outputs": [
    {
     "data": {
      "image/png": "[encoded data removed]",
      "text/plain": [
       "<Figure size 1600x800 with 9 Axes>"
      ]
     },
     "metadata": {},
     "output_type": "display_data"
    }
   ],
   "source": [
    "fig, axs = plt.subplots(3, 3, figsize=(16, 8))\n",
    "\n",
    "for ax in axs.flatten():\n",
    "    # Select a random index from the output\n",
    "    random_index = np.random.choice(len(out))\n",
    "    \n",
    "    # Display the image at the selected index with colormap gray for correct predictions\n",
    "    true_label = y_test[random_index]\n",
    "    guess_label = out.argmax(1)[random_index]\n",
    "    \n",
    "    if true_label == guess_label:\n",
    "        ax.imshow(x_test[random_index].view(28, 28), cmap=\"gray\")\n",
    "    else:\n",
    "        ax.imshow(x_test[random_index].view(28, 28))\n",
    "    \n",
    "    \n",
    "    ax.set_title(f\"Guess: {classes[guess_label]}, True: {classes[true_label]}\")\n",
    "    ax.axis(\"off\")\n",
    "\n",
    "plt.suptitle(\"Result\", fontsize=16)\n",
    "plt.show()"
   ]
  },
  {
   "cell_type": "code",
   "execution_count": null,
   "id": "9cfa7ffb",
   "metadata": {},
   "outputs": [],
   "source": []
  }
 ],
 "metadata": {
  "kernelspec": {
   "display_name": "Python 3 (ipykernel)",
   "language": "python",
   "name": "python3"
  },
  "language_info": {
   "codemirror_mode": {
    "name": "ipython",
    "version": 3
   },
   "file_extension": ".py",
   "mimetype": "text/x-python",
   "name": "python",
   "nbconvert_exporter": "python",
   "pygments_lexer": "ipython3",
   "version": "3.11.4"
  }
 },
 "nbformat": 4,
 "nbformat_minor": 5
}
