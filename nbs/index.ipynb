{
 "cells": [
  {
   "cell_type": "code",
   "execution_count": null,
   "metadata": {},
   "outputs": [],
   "source": [
    "#| hide\n",
    "from Fashion_MNIST_Project.core import *"
   ]
  },
  {
   "cell_type": "markdown",
   "metadata": {},
   "source": [
    "# Project Fashion MNIST\n",
    "\n",
    "> Build Neural Network, CNN, Fine Tuning from scratch."
   ]
  },
  {
   "cell_type": "markdown",
   "metadata": {},
   "source": [
    "## The Goal"
   ]
  },
  {
   "cell_type": "markdown",
   "metadata": {},
   "source": [
    "Mục tiêu của tôi trong dự án này là giúp bản thân của mình, sau hai năm xa rời thế giới Deep Learning và AI, sau khi đọc lại toàn bộ dự án này, có thể nhớ và nắm lại được một cái nhìn tổng quan về quá trình làm việc với Deep Learning.\n",
    "\n",
    "Chỉ còn ba tháng nữa, tôi sẽ bước vào cuộc sống quân đội, nơi mà Deep Learning và AI sẽ trở nên xa lạ. Điều này giống như một câu chuyện về người đam mê bóng đá bị chấn thương đầu gối và phải tạm biệt sân cỏ trong hai năm dài. Nhưng đam mê đó vẫn nhen nhóm bên trong, và họ muốn duy trì nó. Thay vì phải bắt đầu lại từ đầu, học lại từng kỹ thuật nhỏ nhặt như cách sút bóng hoặc chạy chỗ, họ muốn tham gia vào một trận đấu bóng vui vẻ với bạn bè để cùng nhau tái hiện \"bức tranh tổng thể\" của cuộc hành trình đá bóng. Điều này sẽ giúp họ hiểu rõ những điểm quan trọng nhất trong quá trình đá bóng. Sau đó, họ sẽ có thể dễ dàng học lại các kỹ thuật cụ thể để nâng cao trình độ đá bóng của mình và duy trì đam mê đối với môn thể thao yêu thích.\n",
    "\n",
    "Dự án này cũng tương tự, mục tiêu của nó là giúp tôi sau hai năm có khả năng hiểu và nắm vững một cái nhìn tổng quan về quá trình làm việc với Deep Learning. Sau đó, tôi sẽ chia sẻ những tài liệu, kiến thức sâu hơn để tìm hiểu về các khái niệm cốt lõi trong Deep Learning. Mục tiêu cuối cùng là duy trì và kích thích niềm đam mê của tôi, để tôi có thể tiếp tục khám phá và đi sâu vào thế giới hấp dẫn của Deep Learning và AI."
   ]
  },
  {
   "cell_type": "markdown",
   "metadata": {},
   "source": [
    "## Why Fashion MNIST?"
   ]
  },
  {
   "cell_type": "markdown",
   "metadata": {},
   "source": [
    "Tôi đã lựa chọn bộ dữ liệu Fashion MNIST để thực hiện mục tiêu của mình vì đây là một sự kết hợp tuyệt vời giữa đơn giản và thú vị. Những hình ảnh trong bộ dữ liệu này sẽ khơi gợi sự tò mò và đam mê của tôi khi quay trở lại thế giới của Deep Learning.\n",
    "\n",
    "Nhưng điều thú vị ở đây là sự đơn giản của Fashion MNIST không chỉ làm cho dự án dễ tiếp cận mà còn giúp tôi tập trung vào mục tiêu chính: hiểu rõ và nắm bắt được cái nhìn tổng quan về Deep Learning. Không bị lạc hướng bởi sự phức tạp, tôi có thể dễ dàng tiến đến mục tiêu của mình - có lại được một bức tranh toàn cảnh trong lĩnh vực này."
   ]
  },
  {
   "cell_type": "markdown",
   "metadata": {},
   "source": [
    "## Writing Style"
   ]
  },
  {
   "cell_type": "markdown",
   "metadata": {},
   "source": [
    "Trong dự án này, tôi có xu hướng viết mã trước và sau đó giải thích những gì tôi đã thực hiện. Lý do là dự án này không phải là để đọc, vì vậy tôi muốn tránh viết theo kiểu thông thường, có thể khiến bạn đọc chỉ đọc qua mà không tập trung vào mã nguồn. Thay vào đó, mục tiêu của tôi là tạo ra bài viết hướng đến mục đích cụ thể mà tôi muốn đạt được.\n",
    "\n",
    "Một điểm quan trọng khác là bạn có thể thấy các tiêu đề, đề mục và mục lục tôi đều viết bằng tiếng Anh. Đúng vậy, điều này không phải là ngẫu nhiên. Mục tiêu của dự án này không chỉ dừng lại ở đây, mà là để giúp bạn đọc phát triển và tiếp tục học hỏi. Khi bạn hoàn thành dự án này, đó chỉ là một bước khởi đầu. Lĩnh vực AI, Deep Learning luôn thay đổi rất nhanh, và tất cả thông tin mới nhất đều xuất phát từ tiếng Anh. Do đó, tôi muốn khuyến khích bạn đọc làm quen với tiếng Anh, vì tất cả bài báo và tài liệu về khoa học máy tính đều được viết bằng tiếng Anh. Hiện tại, chưa có đủ nguồn tài liệu chất lượng được dịch sang tiếng Việt, và ngay cả khi có, thì việc dịch và cập nhật sẽ tốn rất nhiều thời gian."
   ]
  }
 ],
 "metadata": {
  "kernelspec": {
   "display_name": "Python 3 (ipykernel)",
   "language": "python",
   "name": "python3"
  },
  "language_info": {
   "codemirror_mode": {
    "name": "ipython",
    "version": 3
   },
   "file_extension": ".py",
   "mimetype": "text/x-python",
   "name": "python",
   "nbconvert_exporter": "python",
   "pygments_lexer": "ipython3",
   "version": "3.11.4"
  }
 },
 "nbformat": 4,
 "nbformat_minor": 4
}
